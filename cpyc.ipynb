{
 "cells": [
  {
   "cell_type": "code",
   "execution_count": 1,
   "metadata": {
    "collapsed": true
   },
   "outputs": [],
   "source": [
    "import jupyter_client\n",
    "import re\n",
    "import sys"
   ]
  },
  {
   "cell_type": "code",
   "execution_count": 2,
   "metadata": {
    "collapsed": true
   },
   "outputs": [],
   "source": [
    "manager = jupyter_client.KernelManager()\n",
    "manager.start_kernel()\n",
    "client = manager.client()\n",
    "client.start_channels()"
   ]
  },
  {
   "cell_type": "code",
   "execution_count": 3,
   "metadata": {
    "collapsed": true
   },
   "outputs": [],
   "source": [
    "msg = client.get_iopub_msg()\n",
    "while not (msg[\"msg_type\"] == \"status\" and msg[\"content\"][\"execution_state\"] == \"idle\"):\n",
    "    msg = client.get_iopub_msg()"
   ]
  },
  {
   "cell_type": "code",
   "execution_count": 4,
   "metadata": {
    "collapsed": false
   },
   "outputs": [],
   "source": [
    "def execute_cell(code):\n",
    "    client.execute(code)\n",
    "    msg = client.get_iopub_msg()\n",
    "    text = \"\"\n",
    "    while not (msg[\"msg_type\"] == \"status\" and msg[\"content\"][\"execution_state\"] == \"idle\"):\n",
    "        #print(msg)\n",
    "        if msg[\"msg_type\"] == \"stream\":\n",
    "            text += msg[\"content\"][\"text\"]\n",
    "        elif msg[\"msg_type\"] == \"error\":\n",
    "            sys.stderr.write(msg[\"content\"][\"evalue\"])\n",
    "        msg = client.get_iopub_msg()\n",
    "    return text"
   ]
  },
  {
   "cell_type": "code",
   "execution_count": 5,
   "metadata": {
    "collapsed": false,
    "scrolled": true
   },
   "outputs": [],
   "source": [
    "#execute_cell('import random\\nprint random.randint(0, 1) == 1 ? \"world\" : \"zach\"')"
   ]
  },
  {
   "cell_type": "code",
   "execution_count": 6,
   "metadata": {
    "collapsed": true
   },
   "outputs": [],
   "source": [
    "regex = re.compile(r\"^\\s*\\* \", re.M)"
   ]
  },
  {
   "cell_type": "code",
   "execution_count": 7,
   "metadata": {
    "collapsed": false
   },
   "outputs": [],
   "source": [
    "#print(regex.sub(\"\", \"        * import jupyter_client\"))\n",
    "#print(regex.sub(\"\", \"import jupyter_client\"))"
   ]
  },
  {
   "cell_type": "code",
   "execution_count": 8,
   "metadata": {
    "collapsed": true
   },
   "outputs": [],
   "source": [
    "comment_first_char = False\n",
    "is_in_comment = False\n",
    "py_code = None\n",
    "for c in iter(lambda: sys.stdin.read(1), \"\"):\n",
    "    if is_in_comment:\n",
    "        if py_code == \"\":\n",
    "            if c == '*':\n",
    "                sys.stdout.write(\"/**\")\n",
    "                py_code = None\n",
    "            else:\n",
    "                py_code += c\n",
    "        elif py_code == None:\n",
    "            sys.stdout.write(c)\n",
    "            if comment_first_char:\n",
    "                comment_first_char = False\n",
    "                if c == '/':\n",
    "                    is_in_comment = False\n",
    "            else:\n",
    "                if c == '*':\n",
    "                    comment_first_char = True\n",
    "        else:\n",
    "            if comment_first_char:\n",
    "                comment_first_char = False\n",
    "                if c == '/':\n",
    "                    is_in_comment = False\n",
    "                    sys.stdout.write(execute_cell(regex.sub(\"\", py_code)))\n",
    "                    #sys.stdout.write(regex.sub(\"\", py_code))\n",
    "                    py_code = None\n",
    "                else:\n",
    "                    py_code += '*' + c\n",
    "            else:\n",
    "                if c == '*':\n",
    "                    comment_first_char = True\n",
    "                else:\n",
    "                    py_code += c\n",
    "    else:\n",
    "        if comment_first_char:\n",
    "            comment_first_char = False\n",
    "            if c == '*':\n",
    "                is_in_comment = True\n",
    "                py_code = \"\"\n",
    "            else:\n",
    "                sys.stdout.write('/')\n",
    "                sys.stdout.write(c)\n",
    "        else:\n",
    "            if c == '/':\n",
    "                comment_first_char = True\n",
    "            else:\n",
    "                sys.stdout.write(c)"
   ]
  },
  {
   "cell_type": "code",
   "execution_count": null,
   "metadata": {
    "collapsed": true
   },
   "outputs": [],
   "source": []
  }
 ],
 "metadata": {
  "kernelspec": {
   "display_name": "Python 2",
   "language": "python",
   "name": "python2"
  },
  "language_info": {
   "codemirror_mode": {
    "name": "ipython",
    "version": 2
   },
   "file_extension": ".py",
   "mimetype": "text/x-python",
   "name": "python",
   "nbconvert_exporter": "python",
   "pygments_lexer": "ipython2",
   "version": "2.7.13"
  }
 },
 "nbformat": 4,
 "nbformat_minor": 2
}
